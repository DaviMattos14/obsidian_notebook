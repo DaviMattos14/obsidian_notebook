{
 "cells": [
  {
   "cell_type": "markdown",
   "id": "29fb1368",
   "metadata": {},
   "source": [
    "Método gauss jacobi / Método do ponto fixo\n",
    "\n",
    "1, 4, 6, 12."
   ]
  },
  {
   "cell_type": "code",
   "execution_count": 2,
   "id": "fadd1fda",
   "metadata": {},
   "outputs": [
    {
     "data": {
      "text/plain": [
       "Eigen{Float64, Float64, Matrix{Float64}, Vector{Float64}}\n",
       "values:\n",
       "2-element Vector{Float64}:\n",
       " -0.7071067811865475\n",
       "  0.7071067811865476\n",
       "vectors:\n",
       "2×2 Matrix{Float64}:\n",
       " 0.57735    0.57735\n",
       " 0.816497  -0.816497"
      ]
     },
     "metadata": {},
     "output_type": "display_data"
    }
   ],
   "source": [
    "using LinearAlgebra\n",
    "A = [0 -0.5\n",
    "    -1 0]\n",
    "\n",
    "eigen(A)"
   ]
  },
  {
   "cell_type": "markdown",
   "id": "8e2c163e",
   "metadata": {},
   "source": [
    "Lista de Sistemas Dinâmicos e Método da Potência: \n",
    "\n",
    "1, 2, 3, 5, 10, 13, 15."
   ]
  },
  {
   "cell_type": "code",
   "execution_count": null,
   "id": "25626d92",
   "metadata": {},
   "outputs": [],
   "source": []
  },
  {
   "cell_type": "markdown",
   "id": "79b79f74",
   "metadata": {},
   "source": [
    "Lista de PCA: \n",
    "\n",
    "1, 2, 3, 5, 6, 11, 13, 17."
   ]
  },
  {
   "cell_type": "code",
   "execution_count": null,
   "id": "5da8b68a",
   "metadata": {},
   "outputs": [],
   "source": []
  },
  {
   "cell_type": "markdown",
   "id": "e71dee1a",
   "metadata": {},
   "source": [
    "Lista de Gradiente Descendente: \n",
    "\n",
    "1, 2, 3, 4, 5."
   ]
  },
  {
   "cell_type": "code",
   "execution_count": null,
   "id": "d1a45a1b",
   "metadata": {},
   "outputs": [],
   "source": []
  }
 ],
 "metadata": {
  "kernelspec": {
   "display_name": "Julia 1.11.5",
   "language": "julia",
   "name": "julia-1.11"
  },
  "language_info": {
   "file_extension": ".jl",
   "mimetype": "application/julia",
   "name": "julia",
   "version": "1.11.5"
  }
 },
 "nbformat": 4,
 "nbformat_minor": 5
}
