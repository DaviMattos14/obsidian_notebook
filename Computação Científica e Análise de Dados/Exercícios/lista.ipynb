{
 "cells": [
  {
   "cell_type": "code",
   "execution_count": 6,
   "metadata": {},
   "outputs": [
    {
     "data": {
      "text/plain": [
       "1×30 Matrix{Float64}:\n",
       " 487.61  -2.72064  836.839  93.6499  …  93.6499  0.59584  1.24992  3.68928"
      ]
     },
     "metadata": {},
     "output_type": "display_data"
    }
   ],
   "source": [
    "function f(x)\n",
    "    coef = [1   1   1   1   1   1]\n",
    "    y = coef[1]*x^5 + coef[2]*x^4 + coef[3]*x^3 + coef[4]*x^2 + coef[5]*x + coef[6]\n",
    "    return y\n",
    "end\n",
    "\n",
    "using Random\n",
    "Random.seed!(14)\n",
    "\n",
    "x = rand(-5:0.2:5,1,30)\n",
    "y = [f(i) for i in x]"
   ]
  },
  {
   "cell_type": "code",
   "execution_count": 7,
   "metadata": {},
   "outputs": [
    {
     "name": "stdout",
     "output_type": "stream",
     "text": [
      "(xi, yi) = (3.2, 487.60992000000016)\n",
      "(xi, yi) = (-1.4, -2.720639999999998)\n",
      "(xi, yi) = (3.6, 836.83936)\n",
      "(xi, yi) = (2.2, 93.64992000000002)\n",
      "(xi, yi) = (-1.8, -11.790080000000003)\n",
      "(xi, yi) = (0.4, 1.65984)\n",
      "(xi, yi) = (4.2, 1715.0099200000006)\n",
      "(xi, yi) = (-4.2, -1055.3907200000003)\n",
      "(xi, yi) = (-3.4, -350.86463999999995)\n",
      "(xi, yi) = (4.0, 1365.0)\n",
      "(xi, yi) = (-4.2, -1055.3907200000003)\n",
      "(xi, yi) = (-0.6, 0.59584)\n",
      "(xi, yi) = (1.2, 9.929919999999997)\n",
      "(xi, yi) = (1.0, 6.0)\n",
      "(xi, yi) = (-4.2, -1055.3907200000003)\n",
      "(xi, yi) = (-2.6, -85.53216000000002)\n",
      "(xi, yi) = (-2.4, -55.91263999999998)\n",
      "(xi, yi) = (4.2, 1715.0099200000006)\n",
      "(xi, yi) = (2.2, 93.64992000000002)\n",
      "(xi, yi) = (-1.6, -6.068160000000002)\n",
      "(xi, yi) = (4.8, 3218.31328)\n",
      "(xi, yi) = (-2.2, -35.11872000000001)\n",
      "(xi, yi) = (4.8, 3218.31328)\n",
      "(xi, yi) = (-1.2, -0.9027199999999997)\n",
      "(xi, yi) = (2.8, 267.1612799999999)\n",
      "(xi, yi) = (-0.2, 0.83328)\n",
      "(xi, yi) = (2.2, 93.64992000000002)\n",
      "(xi, yi) = (-0.6, 0.59584)\n",
      "(xi, yi) = (0.2, 1.24992)\n",
      "(xi, yi) = (0.8, 3.68928)\n"
     ]
    }
   ],
   "source": [
    "for (xi, yi) in zip(x, y)\n",
    "    @show xi, yi\n",
    "end"
   ]
  },
  {
   "cell_type": "code",
   "execution_count": 8,
   "metadata": {},
   "outputs": [
    {
     "name": "stdout",
     "output_type": "stream",
     "text": [
      "(x, y) = (1.0, -28.0)\n",
      "(x, y) = (-0.4, -2.8067200000000003)\n",
      "(x, y) = (-0.2, 6.01856)\n",
      "(x, y) = (1.6, 45.969600000000014)\n",
      "(x, y) = (1.4, -49.843519999999984)\n",
      "(x, y) = (-2.8, -710.1030399999999)\n",
      "(x, y) = (1.0, -5.0)\n",
      "(x, y) = (1.4, 19.506559999999997)\n",
      "(x, y) = (-0.4, -3.31776)\n",
      "(x, y) = (-1.6, -65.95936000000002)\n",
      "(x, y) = (1.4, -12.623359999999996)\n",
      "(x, y) = (1.2, -2.0895999999999955)\n",
      "(x, y) = (-1.2, 25.390079999999998)\n",
      "(x, y) = (-2.0, 8.0)\n",
      "(x, y) = (0.2, -3.60352)\n",
      "(x, y) = (-3.4, -1148.1292799999997)\n",
      "(x, y) = (-1.8, 226.58112000000003)\n",
      "(x, y) = (-2.6, -663.5062400000003)\n",
      "(x, y) = (-0.6, 4.1264)\n",
      "(x, y) = (-0.2, 2.0406400000000002)\n",
      "(x, y) = (-3.4, -838.5007999999999)\n",
      "(x, y) = (0.2, -10.54112)\n",
      "(x, y) = (-2.4, -344.7014399999999)\n",
      "(x, y) = (0.8, 13.20096)\n",
      "(x, y) = (-0.8, 12.148800000000001)\n",
      "(x, y) = (-1.6, -0.8707199999999808)\n",
      "(x, y) = (-0.6, -6.279999999999999)\n",
      "(x, y) = (3.0, -2523.0)\n",
      "(x, y) = (-1.4, -51.80575999999998)\n",
      "(x, y) = (0.6, -4.16384)\n"
     ]
    }
   ],
   "source": [
    "using Random\n",
    "\n",
    "# Definindo o polinômio de grau 5 com coeficientes aleatórios\n",
    "function polinomio(x)\n",
    "    coef = rand(-10:1:10, 6)  # 6 coeficientes aleatórios para o polinômio de grau 5\n",
    "    y = coef[1]*x^5 + coef[2]*x^4 + coef[3]*x^3 + coef[4]*x^2 + coef[5]*x + coef[6]\n",
    "    return y\n",
    "end\n",
    "\n",
    "# Gerar 30 valores aleatórios de x no intervalo de -4 a 4\n",
    "Random.seed!(42)  # Garante resultados reprodutíveis\n",
    "x_vals = rand(-4:0.2:4, 30)  # 30 valores aleatórios entre -4 e 4\n",
    "\n",
    "# Calcular os valores de y para os valores de x\n",
    "y_vals = [polinomio(x) for x in x_vals]\n",
    "\n",
    "# Mostrar os pontos gerados\n",
    "for (x, y) in zip(x_vals, y_vals)\n",
    "    @show x, y\n",
    "end\n"
   ]
  },
  {
   "cell_type": "code",
   "execution_count": 11,
   "metadata": {},
   "outputs": [
    {
     "ename": "UndefVarError",
     "evalue": "UndefVarError: `polyfit` not defined in `Main`\nSuggestion: check for spelling errors or missing imports.",
     "output_type": "error",
     "traceback": [
      "UndefVarError: `polyfit` not defined in `Main`\n",
      "Suggestion: check for spelling errors or missing imports.\n",
      "\n",
      "Stacktrace:\n",
      " [1] top-level scope\n",
      "   @ d:\\REPOSITÓRIOS\\obsidian_notebook\\Computação Científica e Análise de Dados\\Exercícios\\jl_notebook_cell_df34fa98e69747e1a8f8a730347b8e2f_W3sZmlsZQ==.jl:26"
     ]
    }
   ],
   "source": [
    "using Random\n",
    "using Polynomials\n",
    "using Plots\n",
    "\n",
    "# Definindo o polinômio de grau 5 com coeficientes aleatórios\n",
    "function polinomio(x)\n",
    "    coef = rand(-10:1:10, 6)  # 6 coeficientes aleatórios para o polinômio de grau 5\n",
    "    y = coef[1]*x^5 + coef[2]*x^4 + coef[3]*x^3 + coef[4]*x^2 + coef[5]*x + coef[6]\n",
    "    return y\n",
    "end\n",
    "\n",
    "# Gerar 30 valores aleatórios de x no intervalo de -4 a 4\n",
    "Random.seed!(42)  # Garante resultados reprodutíveis\n",
    "x_vals = rand(-4:0.2:4, 30)  # 30 valores aleatórios entre -4 e 4\n",
    "\n",
    "# Calcular os valores de y para os valores de x\n",
    "y_vals = [polinomio(x) for x in x_vals]\n",
    "\n",
    "# Regressão polinomial para polinômios de grau 0 até 29\n",
    "graus = 0:29  # Graus de 0 a 29\n",
    "erros = []  # Lista para armazenar os erros de cada regressão\n",
    "\n",
    "# Ajustando polinômios e calculando o erro\n",
    "for grau in graus\n",
    "    # Ajustar o polinômio\n",
    "    p = polyfit(x_vals, y_vals, grau)\n",
    "    \n",
    "    # Calcular a previsão y para o polinômio ajustado\n",
    "    y_pred = [polyval(p, xi) for xi in x_vals]\n",
    "    \n",
    "    # Calcular o erro quadrático médio (RMSE)\n",
    "    erro = sqrt(sum((y_vals .- y_pred).^2) / length(x_vals))\n",
    "    push!(erros, erro)\n",
    "    \n",
    "    # Exibir os coeficientes do polinômio ajustado\n",
    "    println(\"Polinômio de grau $grau: Coeficientes = \", p.coefficients)\n",
    "end\n",
    "\n",
    "# Plotando o erro de cada grau de polinômio\n",
    "plot(graus, erros, xlabel=\"Grau do polinômio\", ylabel=\"Erro (RMSE)\", label=\"Erro de Ajuste\")\n"
   ]
  },
  {
   "cell_type": "code",
   "execution_count": null,
   "metadata": {},
   "outputs": [
    {
     "name": "stdout",
     "output_type": "stream",
     "text": [
      "[-0.3333333333333335, -4.333333333333334, 4.666666666666667]"
     ]
    }
   ],
   "source": [
    "using LinearAlgebra\n",
    "\n",
    "filmes = [\n",
    "    \"Toy Story\",\n",
    "    \"Rocky\",\n",
    "    \"De Volta pro Futuro\",\n",
    "    \"Curtindo a Vida Adoidado\",\n",
    "    \"Os Incríveis\",\n",
    "    \"Duna\",\n",
    "    \"Batman Begins\",\n",
    "    \"Harry Potter 1\",\n",
    "    \"Shrek\"\n",
    "]\n",
    "\n",
    "comparacoes = [\n",
    "    (\"Toy Story\", \"Rocky\", 11),\n",
    "    (\"De Volta pro Futuro\", \"Curtindo a Vida Adoidado\", 3),\n",
    "    (\"Os Incríveis\", \"Duna\", 7),\n",
    "    (\"Batman Begins\", \"Harry Potter 1\", 2),\n",
    "    (\"Shrek\", \"Duna\", 9),\n",
    "    (\"Harry Potter 1\", \"Rocky\", 7),\n",
    "    (\"Toy Story\", \"De Volta pro Futuro\", 5),\n",
    "    (\"Os Incríveis\", \"Harry Potter 1\", 5),\n",
    "    (\"Curtindo a Vida Adoidado\", \"Duna\", 2),\n",
    "    (\"De Volta pro Futuro\", \"Duna\", 2),\n",
    "    (\"Shrek\", \"Rocky\", 11),\n",
    "    (\"Os Incríveis\", \"Batman Begins\", 5),\n",
    "    (\"Toy Story\", \"Batman Begins\", 3),\n",
    "    (\"Os Incríveis\", \"Curtindo a Vida Adoidado\", 7)\n",
    "]\n",
    "\n",
    "n_filmes = length(filmes)\n",
    "n_jogos = length(comparacoes)\n",
    "\n",
    "# Montar matriz A e vetor b\n",
    "A = zeros(n_jogos, n_filmes)\n",
    "b = zeros(n_jogos)\n",
    "\n",
    "for (i, (f1, f2, diff)) in enumerate(comparacoes)\n",
    "    idx1 = findfirst(==(f1), filmes)\n",
    "    idx2 = findfirst(==(f2), filmes)\n",
    "    A[i, idx1] = 1\n",
    "    A[i, idx2] = -1\n",
    "    b[i] = diff\n",
    "end\n",
    "\n",
    "# Resolver por mínimos quadrados\n",
    "s = A \\ b\n",
    "\n",
    "# Mostrar ranking\n",
    "ranking = sortperm(s, rev=true)\n",
    "println(\"Ranking dos filmes:\")\n",
    "for i in ranking\n",
    "    println(\"$(filmes[i]): pontuação = $(round(s[i], digits=2))\")\n",
    "end\n"
   ]
  },
  {
   "cell_type": "code",
   "execution_count": 1,
   "metadata": {},
   "outputs": [
    {
     "name": "stdout",
     "output_type": "stream",
     "text": [
      "Valor estimado de c1: 2.7767226194315064\n",
      "Atinge 24.700 tweets em t = 3.308956002713596 minutos\n",
      "Horário estimado: 15:38:19\n"
     ]
    }
   ],
   "source": [
    "using LinearAlgebra\n",
    "\n",
    "t = [0.0, 1.0, 3.0]\n",
    "y = [600.0, 1400.0, 3200.0]\n",
    "\n",
    "# Ajuste para o modelo y = 3^(c1 * t) + 500\n",
    "z = log.(y .- 500) ./ log(3)  # log_3(y - 500)\n",
    "\n",
    "A = reshape(t, :, 1)\n",
    "c1 = A \\ z\n",
    "\n",
    "println(\"Valor estimado de c1: \", c1[1])\n",
    "\n",
    "alvo = 24700.0\n",
    "log_val = log(alvo - 500) / log(3)\n",
    "t_atinge = log_val / c1[1]\n",
    "\n",
    "println(\"Atinge 24.700 tweets em t = \", t_atinge, \" minutos\")\n",
    "\n",
    "\n",
    "minuto = floor(Int, t_atinge)\n",
    "segundos = round(Int, (t_atinge - minuto) * 60)\n",
    "println(\"Horário estimado: 15:$(35 + minuto):$(segundos)\")\n"
   ]
  },
  {
   "cell_type": "code",
   "execution_count": 7,
   "metadata": {},
   "outputs": [
    {
     "name": "stdout",
     "output_type": "stream",
     "text": [
      "Valores de y transformado: [-0.1941560144409575, -0.5306282510621704, -1.2237754316221157]\n",
      "Constante de resfriamento k: 0.39704253457312216\n",
      "Tempo estimado desde a morte até 15:00h: 0.30256167156853403 horas\n",
      "Hora estimada da morte: 14:01\n"
     ]
    }
   ],
   "source": [
    "using LinearAlgebra\n",
    "using Dates\n",
    "\n",
    "t = [0.0, 1.5, 2.5]  # horas após a chegada da polícia\n",
    "T = [34.0, 30.0, 25.0]\n",
    "T0 = 37.0\n",
    "Tf = 20.0\n",
    "\n",
    "# Linearização do modelo\n",
    "y = log.((T .- Tf) ./ (T0 - Tf))\n",
    "println(\"Valores de y transformado: \", y)\n",
    "\n",
    "# Regressão linear\n",
    "matriz_X = [ones(length(t)) t]\n",
    "coefs_A0_A1 = matriz_X \\ y\n",
    "A0, A1 = coefs_A0_A1  # <- corrigido\n",
    "\n",
    "k = -A1\n",
    "t_offset = A0 / A1\n",
    "\n",
    "println(\"Constante de resfriamento k: \", k)\n",
    "println(\"Tempo estimado desde a morte até 15:00h: \", t_offset, \" horas\")\n",
    "\n",
    "# Converter para minutos e estimar horário da morte\n",
    "total_minutos_offset = t_offset * 60\n",
    "data_hora_referencia = DateTime(2000, 1, 1, 15, 0, 0)\n",
    "data_hora_morte_estimada = data_hora_referencia - Minute(round(Int, total_minutos_offset))\n",
    "\n",
    "println(\"Hora estimada da morte: \", Dates.format(data_hora_morte_estimada, \"HH:mm\"))\n"
   ]
  },
  {
   "cell_type": "code",
   "execution_count": 10,
   "metadata": {},
   "outputs": [
    {
     "name": "stdout",
     "output_type": "stream",
     "text": [
      "Valores de y transformado: [-0.1941560144409575, -0.5306282510621704, -1.2237754316221157]\n",
      "[1.0 0.0; 1.0 1.5; 1.0 2.5]\n",
      "Coeficiente A0 (intercepto) estimado: -0.12013\n",
      "Coeficiente A1 (inclinação) estimado: -0.397043\n",
      "Constante k estimada: 0.397\n",
      "Tempo desde a morte até 15:00h (t_offset): 0.3026 horas\n",
      "Hora estimada da morte: 14:42\n"
     ]
    }
   ],
   "source": [
    "using LinearAlgebra\n",
    "using Dates # Adicionado para o cálculo final da hora\n",
    "\n",
    "# Seus dados originais\n",
    "t = [0.0, 1.5, 2.5]  # horas após a chegada da polícia (Δt')\n",
    "T = [34.0, 30.0, 25.0]  # temperaturas medidas (°C)\n",
    "T0 = 37.0              # Temperatura do corpo no momento da morte (°C)\n",
    "Tf = 20.0              # Temperatura ambiente (°C)\n",
    "\n",
    "# Seu cálculo de y está correto:\n",
    "# y é o Y_transformado = ln((T_medida - T_ambiente) / (T_inicial_corpo_morte - T_ambiente))\n",
    "y = log.((T .- Tf) ./ (T0 - Tf)) \n",
    "println(\"Valores de y transformado: \", y)\n",
    "\n",
    "# --- ALTERAÇÕES E ADIÇÕES A PARTIR DAQUI ---\n",
    "# Comentário: A linha original 'k = - (t \\ y)' foi substituída pela regressão linear completa abaixo,\n",
    "# pois precisamos encontrar um intercepto (A0) e uma inclinação (A1) para o modelo y = A0 + A1*t.\n",
    "\n",
    "# Montar a matriz de design para a regressão linear Y = A0 + A1*t\n",
    "# Para cada linha i, teremos [1, t[i]] para representar A0*1 + A1*t[i]\n",
    "matriz_X = [ones(length(t)) t] # LINHA ALTERADA/ADICIONADA\n",
    "println(matriz_X)\n",
    "# Resolver para os coeficientes [A0, A1] do modelo linearizado\n",
    "coefs_A0_A1 = matriz_X \\ y # LINHA ALTERADA/ADICIONADA\n",
    "\n",
    "A0 = coefs_A0_A1[1] # Este é o intercepto A0 = -k * t_offset\n",
    "A1 = coefs_A0_A1[2] # Esta é a inclinação A1 = -k\n",
    "\n",
    "println(\"Coeficiente A0 (intercepto) estimado: \", round(A0, digits=6)) # LINHA ADICIONADA\n",
    "println(\"Coeficiente A1 (inclinação) estimado: \", round(A1, digits=6)) # LINHA ADICIONADA\n",
    "\n",
    "# Calcular a constante de resfriamento k\n",
    "# Mantendo sua variável 'k', mas agora calculada corretamente\n",
    "if A1 == 0\n",
    "    println(\"Erro: A inclinação A1 é zero. k e t_offset não podem ser determinados de forma única.\")\n",
    "    k = NaN # Ou algum outro indicador de erro\n",
    "    t_offset = NaN # LINHA ADICIONADA\n",
    "else\n",
    "    k = -A1 # LINHA ALTERADA: k é agora -A1\n",
    "    println(\"Constante k estimada: \", round(k, digits=4))\n",
    "\n",
    "    # Calcular t_offset (tempo em horas desde a morte até as 15:00h)\n",
    "    # Como A0 = -k * t_offset, então t_offset = -A0 / k.\n",
    "    # E como k = -A1, então t_offset = -A0 / (-A1) = A0 / A1.\n",
    "    t_offset = A0 / A1 # LINHA ADICIONADA\n",
    "    println(\"Tempo desde a morte até 15:00h (t_offset): \", round(t_offset, digits=4), \" horas\") # LINHA ADICIONADA\n",
    "\n",
    "    # --- LINHAS ADICIONADAS: Calcular e imprimir a hora da morte ---\n",
    "    # A hora da morte foi 't_offset' horas ANTES das 15:00h.\n",
    "    total_minutos_offset = t_offset * 60\n",
    "    \n",
    "    # Define o horário da primeira medição (15:00) como referência\n",
    "    # Usamos uma data arbitrária pois só nos importamos com a hora e minuto\n",
    "    data_hora_referencia = DateTime(2000, 1, 1, 15, 0, 0) \n",
    "    \n",
    "    # Subtrai o offset em minutos para encontrar a data e hora da morte\n",
    "    # Usamos round(Int, ...) para converter o total de minutos para um inteiro antes de subtrair\n",
    "    data_hora_morte_estimada = data_hora_referencia - Minute(round(Int, total_minutos_offset))\n",
    "        \n",
    "    println(\"Hora estimada da morte: \", Dates.format(data_hora_morte_estimada, \"HH:MM\"))\n",
    "    # --- FIM DAS LINHAS ADICIONADAS ---\n",
    "end"
   ]
  },
  {
   "cell_type": "code",
   "execution_count": 14,
   "metadata": {},
   "outputs": [
    {
     "name": "stdout",
     "output_type": "stream",
     "text": [
      "0.39704253457312216\n",
      "Tempo desde a morte até 15:00h: -0.4890055788347794 horas\n",
      "Horário estimado da morte: 15:01\n"
     ]
    }
   ],
   "source": [
    "using LinearAlgebra\n",
    "using Dates\n",
    "\n",
    "# Dados da questão\n",
    "t = [0.0, 1.5, 2.5]        # horas após chegada da polícia\n",
    "T = [34.0, 30.0, 25.0]     # temperaturas medidas\n",
    "T0 = 37.0\n",
    "Tf = 20.0\n",
    "\n",
    "# Linearização do modelo\n",
    "y = log.((T .- Tf) ./ (T0 - Tf))\n",
    "matriz = [ones(length(t)) t]\n",
    "\n",
    "a0, a1 = matriz \\ y\n",
    "k = -a1\n",
    "println(k)\n",
    "# Calcular tempo desde a morte até a 1ª medição (T = 34)\n",
    "T_inicio = T[1]\n",
    "t_offset = (1 / k) * log((T_inicio - Tf) / (T0 - Tf))\n",
    "println(\"Tempo desde a morte até 15:00h: \", t_offset, \" horas\")\n",
    "\n",
    "# Calcular horário do assassinato\n",
    "total_minutos_offset = t_offset * 60\n",
    "data_hora_referencia = DateTime(2000, 1, 1, 15, 0, 0)\n",
    "data_hora_morte_estimada = data_hora_referencia - Minute(round(Int, total_minutos_offset))\n",
    "\n",
    "println(\"Horário estimado da morte: \", Dates.format(data_hora_morte_estimada, \"HH:mm\"))\n"
   ]
  }
 ],
 "metadata": {
  "kernelspec": {
   "display_name": "Julia 1.11.5",
   "language": "julia",
   "name": "julia-1.11"
  },
  "language_info": {
   "file_extension": ".jl",
   "mimetype": "application/julia",
   "name": "julia",
   "version": "1.11.5"
  }
 },
 "nbformat": 4,
 "nbformat_minor": 2
}
