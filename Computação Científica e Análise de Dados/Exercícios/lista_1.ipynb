{
 "cells": [
  {
   "cell_type": "markdown",
   "id": "398888b8",
   "metadata": {},
   "source": []
  },
  {
   "cell_type": "code",
   "execution_count": null,
   "id": "cff7197a",
   "metadata": {},
   "outputs": [],
   "source": [
    "julia> for i in [1, 4, 0]\n",
    "           println(i)\n",
    "       end"
   ]
  }
 ],
 "metadata": {
  "kernelspec": {
   "display_name": "Julia 1.11.5",
   "language": "julia",
   "name": "julia-1.11"
  },
  "language_info": {
   "file_extension": ".jl",
   "mimetype": "application/julia",
   "name": "julia",
   "version": "1.11.5"
  }
 },
 "nbformat": 4,
 "nbformat_minor": 5
}
